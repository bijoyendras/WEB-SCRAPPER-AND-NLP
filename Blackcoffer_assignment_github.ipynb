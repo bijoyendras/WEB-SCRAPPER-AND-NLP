{
  "nbformat": 4,
  "nbformat_minor": 0,
  "metadata": {
    "colab": {
      "provenance": []
    },
    "kernelspec": {
      "name": "python3",
      "display_name": "Python 3"
    },
    "language_info": {
      "name": "python"
    }
  },
  "cells": [
    {
      "cell_type": "markdown",
      "source": [
        "Author @Bijoyendra Shekhar"
      ],
      "metadata": {
        "id": "D1jAp8O7iA2X"
      }
    },
    {
      "cell_type": "markdown",
      "source": [
        "[DATASET AND INSTRUCTIONS](https://drive.google.com/drive/folders/10mOjv6h5X0AN54gS2Nca_gLKc9ltD_Fq?usp=sharing)"
      ],
      "metadata": {
        "id": "a2wZaHSSn2US"
      }
    },
    {
      "cell_type": "code",
      "source": [
        "import numpy as np\n",
        "import pandas as pd\n",
        "import xlrd\n",
        "import os\n",
        "import xlwt\n",
        "import codecs\n",
        "import string\n",
        "import random\n",
        "import time\n",
        "import re\n",
        "import nltk\n",
        "from nltk.corpus import cmudict\n",
        "import requests\n",
        "from bs4 import BeautifulSoup\n",
        "import openpyxl\n",
        "nltk.download('punkt')\n"
      ],
      "metadata": {
        "id": "nIpavoRPOtr5",
        "colab": {
          "base_uri": "https://localhost:8080/"
        },
        "outputId": "ca108b67-0916-4bf5-eee6-32fdb0f65c70"
      },
      "execution_count": null,
      "outputs": [
        {
          "output_type": "stream",
          "name": "stderr",
          "text": [
            "[nltk_data] Downloading package punkt to /root/nltk_data...\n",
            "[nltk_data]   Unzipping tokenizers/punkt.zip.\n"
          ]
        },
        {
          "output_type": "execute_result",
          "data": {
            "text/plain": [
              "True"
            ]
          },
          "metadata": {},
          "execution_count": 1
        }
      ]
    },
    {
      "cell_type": "code",
      "source": [
        "\n",
        "# Creates a new Excel workbook using the openpyxl library and sets the active worksheet.\n",
        "\n",
        "workbook = openpyxl.Workbook()\n",
        "worksheet = workbook.active\n",
        "\n",
        "# Sets the column names for the active worksheet, adding a row with the following headings: \"URL ID\", \"URL\", \"Title\", \"Body\", and \"Date\".\n",
        "\n",
        "worksheet.append(['URL ID', 'URL', 'Title', 'Body', 'Date'])\n",
        "\n",
        "# Reads the contents of an Excel file named \"Input.xlsx\" located in the \"/content/\" directory.\n",
        "# Storing its contents in a pandas DataFrame named \"df\".\n",
        "\n",
        "df = pd.read_excel('/content/Input.xlsx')\n",
        "\n",
        "\n",
        "    title = article.h1.text\n",
        "    body = article.find('div', class_='td-post-content').text\n",
        "    date = article.find('div', class_='td-module-meta-info').time.text\n",
        "\n",
        "    # Write the extracted information to the Excel file\n",
        "    worksheet.append([serial_number, url, title, body, date])\n",
        "\n",
        "# Saving the Excel workbook to a file named \"scoop.xlsx\".\n",
        "workbook.save('scoop.xlsx')"
      ],
      "metadata": {
        "colab": {
          "base_uri": "https://localhost:8080/"
        },
        "id": "6L96mdfFybi4",
        "outputId": "b2ed8652-99ca-4a89-f53d-edc6bd77ff98"
      },
      "execution_count": null,
      "outputs": [
        {
          "output_type": "stream",
          "name": "stdout",
          "text": [
            "Article element not found for URL: https://insights.blackcoffer.com/how-neural-networks-can-be-applied-in-various-areas-in-the-future/\n",
            "Article element not found for URL: https://insights.blackcoffer.com/covid-19-environmental-impact-for-the-future/\n",
            "Article element not found for URL: https://insights.blackcoffer.com/ensuring-growth-through-insurance-technology/\n"
          ]
        }
      ]
    },
    {
      "cell_type": "code",
      "source": [
        "# Reading the scrapInput sheet\n",
        "# Reads an Excel file named \"scoop.xlsx\" using the pandas library and stores it in a DataFrame named \"df\".\n",
        "df = pd.read_excel(\"scoop.xlsx\")\n",
        "\n",
        "# Readng the stop words from the 5 text files\n",
        "\n",
        "\n",
        "# Write the cleaned data to a new sheet called cleanedOutput\n",
        "df.to_excel(\"cleaned.xlsx\", index=False)"
      ],
      "metadata": {
        "id": "1aTBzCds7jSU"
      },
      "execution_count": null,
      "outputs": []
    },
    {
      "cell_type": "code",
      "source": [
        "# Read the input file as a pandas dataframe\n",
        "df1 = pd.read_excel('/content/cleaned.xlsx')\n",
        "\n",
        "\n",
        "\n",
        "\n",
        "  words = row['Body'].split()\n",
        "  total_words = len(words)\n",
        "\n",
        "  # Increment the \"POSITIVE SCORE\" column if a positive word is found\n",
        "  positive_score = 0\n",
        "  for word in words:\n",
        "      if word in positive_words:\n",
        "          positive_score += 1\n",
        "  df1.at[index, 'POSITIVE SCORE'] = positive_score\n",
        "\n",
        "  # Increment the \"NEGATIVE SCORE\" column if a negative word is found\n",
        "  negative_score = 0\n",
        "  for word in words:\n",
        "      if word in negative_words:\n",
        "          negative_score += 1\n",
        "  df1.at[index, 'NEGATIVE SCORE'] = negative_score\n",
        "\n",
        "  # Calculate the \"POLARITY SCORE\" column\n",
        "  polarity_score = float((positive_score - negative_score) / (total_words + 0.000001))\n",
        "  df1.at[index, 'POLARITY SCORE'] = polarity_score\n",
        "\n",
        "  # Split the text into sentences\n",
        "  sentences = row['Body'].split(\".\")\n",
        "  total_sentences = len(sentences)\n",
        "\n",
        "  # Calculate the \"WORD COUNT\" column\n",
        "  df1.at[index, 'WORD COUNT'] = total_words\n",
        "\n",
        "  # Calculate the \"AVERAGE NUMBER OF WORDS PER SENTENCE\" column\n",
        "  average_words_per_sentence = float(total_words / total_sentences)\n",
        "  df1.at[index, 'AVERAGE NUMBER OF WORDS PER SENTENCE'] = average_words_per_sentence\n",
        "\n",
        "  # Calculate the \"AVERAGE SENTENCE LENGTH\" column\n",
        "  words_per_sentence = np.array([len(sentence.split()) for sentence in sentences])\n",
        "  average_sentence_length = float(words_per_sentence.mean())\n",
        "  df1.at[index, 'AVERAGE SENTENCE LENGTH'] = average_sentence_length\n",
        "\n",
        "  # Calculate the \"SUBJECTIVE SCORE\" column\n",
        "  subjective_score = float((positive_score + negative_score) / (total_words + 0.000001))\n",
        "  df1.at[index, 'SUBJECTIVE SCORE'] = subjective_score\n",
        "\n",
        "\n",
        "  # Calculate the syllables for each word\n",
        "  for word in words:\n",
        "      total_syllables += count_syllables(word)\n",
        "\n",
        "  syllables_per_word = float(total_syllables / total_words)\n",
        "  complex_words = len([word for word in words if count_syllables(word) >= 3])\n",
        "\n",
        "  df1.at[index, 'SYLLABLE COUNT PER WORD'] = syllables_per_word\n",
        "\n",
        "  # Complex Words\n",
        "  df1.at[index, 'COMPLEX WORDS'] = complex_words\n",
        "\n",
        "  # FOG INDEX\n",
        "  df1.at[index, 'PERCENTAGE OF COMPLEX WORDS'] = complex_words/total_words\n",
        "  df1.at[index, 'FOG INDEX'] = 0.4 * (average_sentence_length + (complex_words / total_words))\n"
      ],
      "metadata": {
        "id": "QpQfJ6vEqK97"
      },
      "execution_count": null,
      "outputs": []
    },
    {
      "cell_type": "code",
      "source": [
        "# writing to ecxel sheet\n",
        "df1.to_excel('main.xlsx', index=False)"
      ],
      "metadata": {
        "id": "MNWYrK03qM40"
      },
      "execution_count": null,
      "outputs": []
    },
    {
      "cell_type": "code",
      "source": [
        "# Load the main excel file in dataframe df2\n",
        "df2 = pd.read_excel(\"/content/main.xlsx\")\n"
      ],
      "metadata": {
        "id": "ZfVXmCh5bd9S"
      },
      "execution_count": null,
      "outputs": []
    },
    {
      "cell_type": "code",
      "source": [
        "# Print Coulumns of dataframe df2\n",
        "df2.columns"
      ],
      "metadata": {
        "colab": {
          "base_uri": "https://localhost:8080/"
        },
        "id": "F9zdGqyxcCfB",
        "outputId": "990a9358-5748-4324-a30a-df8022072a10"
      },
      "execution_count": null,
      "outputs": [
        {
          "output_type": "execute_result",
          "data": {
            "text/plain": [
              "Index(['URL ID', 'URL', 'Title', 'Body', 'Date', 'POSITIVE SCORE',\n",
              "       'NEGATIVE SCORE', 'POLARITY SCORE', 'WORD COUNT',\n",
              "       'AVERAGE NUMBER OF WORDS PER SENTENCE', 'AVERAGE SENTENCE LENGTH',\n",
              "       'SUBJECTIVE SCORE', 'PERSONAL PRONOUNS', 'SYLLABLE COUNT PER WORD',\n",
              "       'COMPLEX WORDS', 'PERCENTAGE OF COMPLEX WORDS', 'FOG INDEX'],\n",
              "      dtype='object')"
            ]
          },
          "metadata": {},
          "execution_count": 7
        }
      ]
    },
    {
      "cell_type": "markdown",
      "source": [
        "Removing Un-necessary columns"
      ],
      "metadata": {
        "id": "aDbwBqBXhUez"
      }
    },
    {
      "cell_type": "code",
      "source": [
        "# Remove one or multiple columns from the DataFrame\n",
        "df2.drop(columns=['Title', 'Body', 'Date'], inplace=True)"
      ],
      "metadata": {
        "id": "gLphRALcb1r7"
      },
      "execution_count": null,
      "outputs": []
    },
    {
      "cell_type": "code",
      "source": [
        "# Prints top 5 rows\n",
        "df2.head()"
      ],
      "metadata": {
        "colab": {
          "base_uri": "https://localhost:8080/",
          "height": 426
        },
        "id": "f_paNEFqkJEf",
        "outputId": "c79d9af4-a8bd-4cc6-bfd7-bdb808df1771"
      },
      "execution_count": null,
      "outputs": [
        {
          "output_type": "execute_result",
          "data": {
            "text/plain": [
              "   URL ID                                                URL  POSITIVE SCORE  \\\n",
              "0       1  https://insights.blackcoffer.com/ai-in-healthc...              55   \n",
              "1       2  https://insights.blackcoffer.com/what-if-the-c...              45   \n",
              "2       3  https://insights.blackcoffer.com/what-jobs-wil...              58   \n",
              "3       4  https://insights.blackcoffer.com/will-machine-...              40   \n",
              "4       5  https://insights.blackcoffer.com/will-ai-repla...              44   \n",
              "\n",
              "   NEGATIVE SCORE  POLARITY SCORE  WORD COUNT  \\\n",
              "0              26               0        1067   \n",
              "1              28               0         692   \n",
              "2              29               0         945   \n",
              "3              15               0         797   \n",
              "4              20               0         928   \n",
              "\n",
              "   AVERAGE NUMBER OF WORDS PER SENTENCE  AVERAGE SENTENCE LENGTH  \\\n",
              "0                             13.679487                13.705128   \n",
              "1                              9.746479                 9.774648   \n",
              "2                             11.117647                11.117647   \n",
              "3                              9.602410                 9.614458   \n",
              "4                             11.317073                11.426829   \n",
              "\n",
              "   SUBJECTIVE SCORE  PERSONAL PRONOUNS  SYLLABLE COUNT PER WORD  \\\n",
              "0          0.075914                  0                 2.470478   \n",
              "1          0.105491                  0                 2.153179   \n",
              "2          0.092063                  0                 2.462434   \n",
              "3          0.069009                  1                 2.218319   \n",
              "4          0.068966                  2                 2.271552   \n",
              "\n",
              "   COMPLEX WORDS  PERCENTAGE OF COMPLEX WORDS  FOG INDEX  \n",
              "0            469                     0.439550   5.657871  \n",
              "1            218                     0.315029   4.035871  \n",
              "2            415                     0.439153   4.622720  \n",
              "3            261                     0.327478   3.976774  \n",
              "4            330                     0.355603   4.712973  "
            ],
            "text/html": [
              "\n",
              "  <div id=\"df-3fd6aaf5-9ec5-4594-98a4-64071bf47a29\">\n",
              "    <div class=\"colab-df-container\">\n",
              "      <div>\n",
              "<style scoped>\n",
              "    .dataframe tbody tr th:only-of-type {\n",
              "        vertical-align: middle;\n",
              "    }\n",
              "\n",
              "    .dataframe tbody tr th {\n",
              "        vertical-align: top;\n",
              "    }\n",
              "\n",
              "    .dataframe thead th {\n",
              "        text-align: right;\n",
              "    }\n",
              "</style>\n",
              "<table border=\"1\" class=\"dataframe\">\n",
              "  <thead>\n",
              "    <tr style=\"text-align: right;\">\n",
              "      <th></th>\n",
              "      <th>URL ID</th>\n",
              "      <th>URL</th>\n",
              "      <th>POSITIVE SCORE</th>\n",
              "      <th>NEGATIVE SCORE</th>\n",
              "      <th>POLARITY SCORE</th>\n",
              "      <th>WORD COUNT</th>\n",
              "      <th>AVERAGE NUMBER OF WORDS PER SENTENCE</th>\n",
              "      <th>AVERAGE SENTENCE LENGTH</th>\n",
              "      <th>SUBJECTIVE SCORE</th>\n",
              "      <th>PERSONAL PRONOUNS</th>\n",
              "      <th>SYLLABLE COUNT PER WORD</th>\n",
              "      <th>COMPLEX WORDS</th>\n",
              "      <th>PERCENTAGE OF COMPLEX WORDS</th>\n",
              "      <th>FOG INDEX</th>\n",
              "    </tr>\n",
              "  </thead>\n",
              "  <tbody>\n",
              "    <tr>\n",
              "      <th>0</th>\n",
              "      <td>1</td>\n",
              "      <td>https://insights.blackcoffer.com/ai-in-healthc...</td>\n",
              "      <td>55</td>\n",
              "      <td>26</td>\n",
              "      <td>0</td>\n",
              "      <td>1067</td>\n",
              "      <td>13.679487</td>\n",
              "      <td>13.705128</td>\n",
              "      <td>0.075914</td>\n",
              "      <td>0</td>\n",
              "      <td>2.470478</td>\n",
              "      <td>469</td>\n",
              "      <td>0.439550</td>\n",
              "      <td>5.657871</td>\n",
              "    </tr>\n",
              "    <tr>\n",
              "      <th>1</th>\n",
              "      <td>2</td>\n",
              "      <td>https://insights.blackcoffer.com/what-if-the-c...</td>\n",
              "      <td>45</td>\n",
              "      <td>28</td>\n",
              "      <td>0</td>\n",
              "      <td>692</td>\n",
              "      <td>9.746479</td>\n",
              "      <td>9.774648</td>\n",
              "      <td>0.105491</td>\n",
              "      <td>0</td>\n",
              "      <td>2.153179</td>\n",
              "      <td>218</td>\n",
              "      <td>0.315029</td>\n",
              "      <td>4.035871</td>\n",
              "    </tr>\n",
              "    <tr>\n",
              "      <th>2</th>\n",
              "      <td>3</td>\n",
              "      <td>https://insights.blackcoffer.com/what-jobs-wil...</td>\n",
              "      <td>58</td>\n",
              "      <td>29</td>\n",
              "      <td>0</td>\n",
              "      <td>945</td>\n",
              "      <td>11.117647</td>\n",
              "      <td>11.117647</td>\n",
              "      <td>0.092063</td>\n",
              "      <td>0</td>\n",
              "      <td>2.462434</td>\n",
              "      <td>415</td>\n",
              "      <td>0.439153</td>\n",
              "      <td>4.622720</td>\n",
              "    </tr>\n",
              "    <tr>\n",
              "      <th>3</th>\n",
              "      <td>4</td>\n",
              "      <td>https://insights.blackcoffer.com/will-machine-...</td>\n",
              "      <td>40</td>\n",
              "      <td>15</td>\n",
              "      <td>0</td>\n",
              "      <td>797</td>\n",
              "      <td>9.602410</td>\n",
              "      <td>9.614458</td>\n",
              "      <td>0.069009</td>\n",
              "      <td>1</td>\n",
              "      <td>2.218319</td>\n",
              "      <td>261</td>\n",
              "      <td>0.327478</td>\n",
              "      <td>3.976774</td>\n",
              "    </tr>\n",
              "    <tr>\n",
              "      <th>4</th>\n",
              "      <td>5</td>\n",
              "      <td>https://insights.blackcoffer.com/will-ai-repla...</td>\n",
              "      <td>44</td>\n",
              "      <td>20</td>\n",
              "      <td>0</td>\n",
              "      <td>928</td>\n",
              "      <td>11.317073</td>\n",
              "      <td>11.426829</td>\n",
              "      <td>0.068966</td>\n",
              "      <td>2</td>\n",
              "      <td>2.271552</td>\n",
              "      <td>330</td>\n",
              "      <td>0.355603</td>\n",
              "      <td>4.712973</td>\n",
              "    </tr>\n",
              "  </tbody>\n",
              "</table>\n",
              "</div>\n",
              "      <button class=\"colab-df-convert\" onclick=\"convertToInteractive('df-3fd6aaf5-9ec5-4594-98a4-64071bf47a29')\"\n",
              "              title=\"Convert this dataframe to an interactive table.\"\n",
              "              style=\"display:none;\">\n",
              "        \n",
              "  <svg xmlns=\"http://www.w3.org/2000/svg\" height=\"24px\"viewBox=\"0 0 24 24\"\n",
              "       width=\"24px\">\n",
              "    <path d=\"M0 0h24v24H0V0z\" fill=\"none\"/>\n",
              "    <path d=\"M18.56 5.44l.94 2.06.94-2.06 2.06-.94-2.06-.94-.94-2.06-.94 2.06-2.06.94zm-11 1L8.5 8.5l.94-2.06 2.06-.94-2.06-.94L8.5 2.5l-.94 2.06-2.06.94zm10 10l.94 2.06.94-2.06 2.06-.94-2.06-.94-.94-2.06-.94 2.06-2.06.94z\"/><path d=\"M17.41 7.96l-1.37-1.37c-.4-.4-.92-.59-1.43-.59-.52 0-1.04.2-1.43.59L10.3 9.45l-7.72 7.72c-.78.78-.78 2.05 0 2.83L4 21.41c.39.39.9.59 1.41.59.51 0 1.02-.2 1.41-.59l7.78-7.78 2.81-2.81c.8-.78.8-2.07 0-2.86zM5.41 20L4 18.59l7.72-7.72 1.47 1.35L5.41 20z\"/>\n",
              "  </svg>\n",
              "      </button>\n",
              "      \n",
              "  <style>\n",
              "    .colab-df-container {\n",
              "      display:flex;\n",
              "      flex-wrap:wrap;\n",
              "      gap: 12px;\n",
              "    }\n",
              "\n",
              "    .colab-df-convert {\n",
              "      background-color: #E8F0FE;\n",
              "      border: none;\n",
              "      border-radius: 50%;\n",
              "      cursor: pointer;\n",
              "      display: none;\n",
              "      fill: #1967D2;\n",
              "      height: 32px;\n",
              "      padding: 0 0 0 0;\n",
              "      width: 32px;\n",
              "    }\n",
              "\n",
              "    .colab-df-convert:hover {\n",
              "      background-color: #E2EBFA;\n",
              "      box-shadow: 0px 1px 2px rgba(60, 64, 67, 0.3), 0px 1px 3px 1px rgba(60, 64, 67, 0.15);\n",
              "      fill: #174EA6;\n",
              "    }\n",
              "\n",
              "    [theme=dark] .colab-df-convert {\n",
              "      background-color: #3B4455;\n",
              "      fill: #D2E3FC;\n",
              "    }\n",
              "\n",
              "    [theme=dark] .colab-df-convert:hover {\n",
              "      background-color: #434B5C;\n",
              "      box-shadow: 0px 1px 3px 1px rgba(0, 0, 0, 0.15);\n",
              "      filter: drop-shadow(0px 1px 2px rgba(0, 0, 0, 0.3));\n",
              "      fill: #FFFFFF;\n",
              "    }\n",
              "  </style>\n",
              "\n",
              "      <script>\n",
              "        const buttonEl =\n",
              "          document.querySelector('#df-3fd6aaf5-9ec5-4594-98a4-64071bf47a29 button.colab-df-convert');\n",
              "        buttonEl.style.display =\n",
              "          google.colab.kernel.accessAllowed ? 'block' : 'none';\n",
              "\n",
              "        async function convertToInteractive(key) {\n",
              "          const element = document.querySelector('#df-3fd6aaf5-9ec5-4594-98a4-64071bf47a29');\n",
              "          const dataTable =\n",
              "            await google.colab.kernel.invokeFunction('convertToInteractive',\n",
              "                                                     [key], {});\n",
              "          if (!dataTable) return;\n",
              "\n",
              "          const docLinkHtml = 'Like what you see? Visit the ' +\n",
              "            '<a target=\"_blank\" href=https://colab.research.google.com/notebooks/data_table.ipynb>data table notebook</a>'\n",
              "            + ' to learn more about interactive tables.';\n",
              "          element.innerHTML = '';\n",
              "          dataTable['output_type'] = 'display_data';\n",
              "          await google.colab.output.renderOutput(dataTable, element);\n",
              "          const docLink = document.createElement('div');\n",
              "          docLink.innerHTML = docLinkHtml;\n",
              "          element.appendChild(docLink);\n",
              "        }\n",
              "      </script>\n",
              "    </div>\n",
              "  </div>\n",
              "  "
            ]
          },
          "metadata": {},
          "execution_count": 9
        }
      ]
    },
    {
      "cell_type": "code",
      "source": [
        "# Prints last 5 rows\n",
        "df2.tail()"
      ],
      "metadata": {
        "colab": {
          "base_uri": "https://localhost:8080/",
          "height": 426
        },
        "id": "5k7V1lHykPeu",
        "outputId": "da7bce50-b2b6-4f16-aa86-6e4c785f1703"
      },
      "execution_count": null,
      "outputs": [
        {
          "output_type": "execute_result",
          "data": {
            "text/plain": [
              "     URL ID                                                URL  \\\n",
              "106     110  https://insights.blackcoffer.com/blockchain-fo...   \n",
              "107     111  https://insights.blackcoffer.com/the-future-of...   \n",
              "108     112  https://insights.blackcoffer.com/big-data-anal...   \n",
              "109     113  https://insights.blackcoffer.com/business-anal...   \n",
              "110     114  https://insights.blackcoffer.com/challenges-an...   \n",
              "\n",
              "     POSITIVE SCORE  NEGATIVE SCORE  POLARITY SCORE  WORD COUNT  \\\n",
              "106              20              23               0         514   \n",
              "107              34               9               0         910   \n",
              "108              25              35               0         669   \n",
              "109              26               3               0         407   \n",
              "110              29              35               0         566   \n",
              "\n",
              "     AVERAGE NUMBER OF WORDS PER SENTENCE  AVERAGE SENTENCE LENGTH  \\\n",
              "106                              9.518519                 9.574074   \n",
              "107                             10.963855                11.253012   \n",
              "108                              9.164384                 9.246575   \n",
              "109                             13.129032                13.193548   \n",
              "110                              8.707692                 8.707692   \n",
              "\n",
              "     SUBJECTIVE SCORE  PERSONAL PRONOUNS  SYLLABLE COUNT PER WORD  \\\n",
              "106          0.083658                  0                 2.295720   \n",
              "107          0.047253                  1                 2.190110   \n",
              "108          0.089686                  0                 2.322870   \n",
              "109          0.071253                  0                 2.614251   \n",
              "110          0.113074                  0                 2.348057   \n",
              "\n",
              "     COMPLEX WORDS  PERCENTAGE OF COMPLEX WORDS  FOG INDEX  \n",
              "106            193                     0.375486   3.979824  \n",
              "107            296                     0.325275   4.631315  \n",
              "108            266                     0.397608   3.857673  \n",
              "109            196                     0.481572   5.470048  \n",
              "110            222                     0.392226   3.639967  "
            ],
            "text/html": [
              "\n",
              "  <div id=\"df-c91658fb-d864-4fb5-96a4-49b8ced36686\">\n",
              "    <div class=\"colab-df-container\">\n",
              "      <div>\n",
              "<style scoped>\n",
              "    .dataframe tbody tr th:only-of-type {\n",
              "        vertical-align: middle;\n",
              "    }\n",
              "\n",
              "    .dataframe tbody tr th {\n",
              "        vertical-align: top;\n",
              "    }\n",
              "\n",
              "    .dataframe thead th {\n",
              "        text-align: right;\n",
              "    }\n",
              "</style>\n",
              "<table border=\"1\" class=\"dataframe\">\n",
              "  <thead>\n",
              "    <tr style=\"text-align: right;\">\n",
              "      <th></th>\n",
              "      <th>URL ID</th>\n",
              "      <th>URL</th>\n",
              "      <th>POSITIVE SCORE</th>\n",
              "      <th>NEGATIVE SCORE</th>\n",
              "      <th>POLARITY SCORE</th>\n",
              "      <th>WORD COUNT</th>\n",
              "      <th>AVERAGE NUMBER OF WORDS PER SENTENCE</th>\n",
              "      <th>AVERAGE SENTENCE LENGTH</th>\n",
              "      <th>SUBJECTIVE SCORE</th>\n",
              "      <th>PERSONAL PRONOUNS</th>\n",
              "      <th>SYLLABLE COUNT PER WORD</th>\n",
              "      <th>COMPLEX WORDS</th>\n",
              "      <th>PERCENTAGE OF COMPLEX WORDS</th>\n",
              "      <th>FOG INDEX</th>\n",
              "    </tr>\n",
              "  </thead>\n",
              "  <tbody>\n",
              "    <tr>\n",
              "      <th>106</th>\n",
              "      <td>110</td>\n",
              "      <td>https://insights.blackcoffer.com/blockchain-fo...</td>\n",
              "      <td>20</td>\n",
              "      <td>23</td>\n",
              "      <td>0</td>\n",
              "      <td>514</td>\n",
              "      <td>9.518519</td>\n",
              "      <td>9.574074</td>\n",
              "      <td>0.083658</td>\n",
              "      <td>0</td>\n",
              "      <td>2.295720</td>\n",
              "      <td>193</td>\n",
              "      <td>0.375486</td>\n",
              "      <td>3.979824</td>\n",
              "    </tr>\n",
              "    <tr>\n",
              "      <th>107</th>\n",
              "      <td>111</td>\n",
              "      <td>https://insights.blackcoffer.com/the-future-of...</td>\n",
              "      <td>34</td>\n",
              "      <td>9</td>\n",
              "      <td>0</td>\n",
              "      <td>910</td>\n",
              "      <td>10.963855</td>\n",
              "      <td>11.253012</td>\n",
              "      <td>0.047253</td>\n",
              "      <td>1</td>\n",
              "      <td>2.190110</td>\n",
              "      <td>296</td>\n",
              "      <td>0.325275</td>\n",
              "      <td>4.631315</td>\n",
              "    </tr>\n",
              "    <tr>\n",
              "      <th>108</th>\n",
              "      <td>112</td>\n",
              "      <td>https://insights.blackcoffer.com/big-data-anal...</td>\n",
              "      <td>25</td>\n",
              "      <td>35</td>\n",
              "      <td>0</td>\n",
              "      <td>669</td>\n",
              "      <td>9.164384</td>\n",
              "      <td>9.246575</td>\n",
              "      <td>0.089686</td>\n",
              "      <td>0</td>\n",
              "      <td>2.322870</td>\n",
              "      <td>266</td>\n",
              "      <td>0.397608</td>\n",
              "      <td>3.857673</td>\n",
              "    </tr>\n",
              "    <tr>\n",
              "      <th>109</th>\n",
              "      <td>113</td>\n",
              "      <td>https://insights.blackcoffer.com/business-anal...</td>\n",
              "      <td>26</td>\n",
              "      <td>3</td>\n",
              "      <td>0</td>\n",
              "      <td>407</td>\n",
              "      <td>13.129032</td>\n",
              "      <td>13.193548</td>\n",
              "      <td>0.071253</td>\n",
              "      <td>0</td>\n",
              "      <td>2.614251</td>\n",
              "      <td>196</td>\n",
              "      <td>0.481572</td>\n",
              "      <td>5.470048</td>\n",
              "    </tr>\n",
              "    <tr>\n",
              "      <th>110</th>\n",
              "      <td>114</td>\n",
              "      <td>https://insights.blackcoffer.com/challenges-an...</td>\n",
              "      <td>29</td>\n",
              "      <td>35</td>\n",
              "      <td>0</td>\n",
              "      <td>566</td>\n",
              "      <td>8.707692</td>\n",
              "      <td>8.707692</td>\n",
              "      <td>0.113074</td>\n",
              "      <td>0</td>\n",
              "      <td>2.348057</td>\n",
              "      <td>222</td>\n",
              "      <td>0.392226</td>\n",
              "      <td>3.639967</td>\n",
              "    </tr>\n",
              "  </tbody>\n",
              "</table>\n",
              "</div>\n",
              "      <button class=\"colab-df-convert\" onclick=\"convertToInteractive('df-c91658fb-d864-4fb5-96a4-49b8ced36686')\"\n",
              "              title=\"Convert this dataframe to an interactive table.\"\n",
              "              style=\"display:none;\">\n",
              "        \n",
              "  <svg xmlns=\"http://www.w3.org/2000/svg\" height=\"24px\"viewBox=\"0 0 24 24\"\n",
              "       width=\"24px\">\n",
              "    <path d=\"M0 0h24v24H0V0z\" fill=\"none\"/>\n",
              "    <path d=\"M18.56 5.44l.94 2.06.94-2.06 2.06-.94-2.06-.94-.94-2.06-.94 2.06-2.06.94zm-11 1L8.5 8.5l.94-2.06 2.06-.94-2.06-.94L8.5 2.5l-.94 2.06-2.06.94zm10 10l.94 2.06.94-2.06 2.06-.94-2.06-.94-.94-2.06-.94 2.06-2.06.94z\"/><path d=\"M17.41 7.96l-1.37-1.37c-.4-.4-.92-.59-1.43-.59-.52 0-1.04.2-1.43.59L10.3 9.45l-7.72 7.72c-.78.78-.78 2.05 0 2.83L4 21.41c.39.39.9.59 1.41.59.51 0 1.02-.2 1.41-.59l7.78-7.78 2.81-2.81c.8-.78.8-2.07 0-2.86zM5.41 20L4 18.59l7.72-7.72 1.47 1.35L5.41 20z\"/>\n",
              "  </svg>\n",
              "      </button>\n",
              "      \n",
              "  <style>\n",
              "    .colab-df-container {\n",
              "      display:flex;\n",
              "      flex-wrap:wrap;\n",
              "      gap: 12px;\n",
              "    }\n",
              "\n",
              "    .colab-df-convert {\n",
              "      background-color: #E8F0FE;\n",
              "      border: none;\n",
              "      border-radius: 50%;\n",
              "      cursor: pointer;\n",
              "      display: none;\n",
              "      fill: #1967D2;\n",
              "      height: 32px;\n",
              "      padding: 0 0 0 0;\n",
              "      width: 32px;\n",
              "    }\n",
              "\n",
              "    .colab-df-convert:hover {\n",
              "      background-color: #E2EBFA;\n",
              "      box-shadow: 0px 1px 2px rgba(60, 64, 67, 0.3), 0px 1px 3px 1px rgba(60, 64, 67, 0.15);\n",
              "      fill: #174EA6;\n",
              "    }\n",
              "\n",
              "    [theme=dark] .colab-df-convert {\n",
              "      background-color: #3B4455;\n",
              "      fill: #D2E3FC;\n",
              "    }\n",
              "\n",
              "    [theme=dark] .colab-df-convert:hover {\n",
              "      background-color: #434B5C;\n",
              "      box-shadow: 0px 1px 3px 1px rgba(0, 0, 0, 0.15);\n",
              "      filter: drop-shadow(0px 1px 2px rgba(0, 0, 0, 0.3));\n",
              "      fill: #FFFFFF;\n",
              "    }\n",
              "  </style>\n",
              "\n",
              "      <script>\n",
              "        const buttonEl =\n",
              "          document.querySelector('#df-c91658fb-d864-4fb5-96a4-49b8ced36686 button.colab-df-convert');\n",
              "        buttonEl.style.display =\n",
              "          google.colab.kernel.accessAllowed ? 'block' : 'none';\n",
              "\n",
              "        async function convertToInteractive(key) {\n",
              "          const element = document.querySelector('#df-c91658fb-d864-4fb5-96a4-49b8ced36686');\n",
              "          const dataTable =\n",
              "            await google.colab.kernel.invokeFunction('convertToInteractive',\n",
              "                                                     [key], {});\n",
              "          if (!dataTable) return;\n",
              "\n",
              "          const docLinkHtml = 'Like what you see? Visit the ' +\n",
              "            '<a target=\"_blank\" href=https://colab.research.google.com/notebooks/data_table.ipynb>data table notebook</a>'\n",
              "            + ' to learn more about interactive tables.';\n",
              "          element.innerHTML = '';\n",
              "          dataTable['output_type'] = 'display_data';\n",
              "          await google.colab.output.renderOutput(dataTable, element);\n",
              "          const docLink = document.createElement('div');\n",
              "          docLink.innerHTML = docLinkHtml;\n",
              "          element.appendChild(docLink);\n",
              "        }\n",
              "      </script>\n",
              "    </div>\n",
              "  </div>\n",
              "  "
            ]
          },
          "metadata": {},
          "execution_count": 10
        }
      ]
    },
    {
      "cell_type": "markdown",
      "source": [
        "Creating Output File, output.xlsx"
      ],
      "metadata": {
        "id": "FKx5LBEshdWl"
      }
    },
    {
      "cell_type": "code",
      "source": [
        "\n",
        "# Create a new excel file with the same data\n",
        "df2.to_excel(\"output.xlsx\", index=False)"
      ],
      "metadata": {
        "id": "ixd2EONab3I6"
      },
      "execution_count": null,
      "outputs": []
    },
    {
      "cell_type": "markdown",
      "source": [
        "Remove unnecessary files created."
      ],
      "metadata": {
        "id": "q9-Mntmvf1Jv"
      }
    },
    {
      "cell_type": "code",
      "source": [
        "# List of file names to be deleted\n",
        "files_to_delete = ['scoop.xlsx', 'cleaned.xlsx', 'main.xlsx']\n",
        "\n",
        "# Loop over the list of files\n",
        "\n"
      ],
      "metadata": {
        "colab": {
          "base_uri": "https://localhost:8080/"
        },
        "id": "bo6XBWzqjn2p",
        "outputId": "927a5f83-46f6-43b7-f3ea-301218f22ee2"
      },
      "execution_count": null,
      "outputs": [
        {
          "output_type": "stream",
          "name": "stdout",
          "text": [
            "scoop.xlsx has been successfully deleted.\n",
            "cleaned.xlsx has been successfully deleted.\n",
            "main.xlsx has been successfully deleted.\n"
          ]
        }
      ]
    },
    {
      "cell_type": "markdown",
      "source": [
        "#CONCLUSION\n",
        "\n",
        "* Extracting textual data articles from the given URL and text analysis has been performed."
      ],
      "metadata": {
        "id": "WePJmO2YldK3"
      }
    }
  ]
}